{
 "cells": [
  {
   "cell_type": "markdown",
   "metadata": {},
   "source": [
    "# PCA & LDA"
   ]
  },
  {
   "cell_type": "markdown",
   "metadata": {},
   "source": [
    "This is a short demonstration where I familiarized myself with PCA and LDA. PCA is a technique for identifying low-dimensional manifolds. Below is a simple example and demonstrates the variance explained by each of the selected components (where n_components = 2). Thus, PCA decomposes the dataset in a set of successive orthogonal components that explain the maximum amount of variance."
   ]
  },
  {
   "cell_type": "code",
   "execution_count": 1,
   "metadata": {},
   "outputs": [],
   "source": [
    "%matplotlib inline\n",
    "%load_ext autoreload\n",
    "%autoreload 2\n",
    "import numpy as np\n",
    "from matplotlib import pylab as plt\n",
    "from sklearn.decomposition import PCA\n",
    "from sklearn.discriminant_analysis import LinearDiscriminantAnalysis as LDA\n",
    "\n",
    "# Import different modules for using with the notebook\n",
    "from IPython.display import display\n",
    "from IPython.display import Image\n",
    "from IPython.display import HTML"
   ]
  },
  {
   "cell_type": "code",
   "execution_count": 2,
   "metadata": {},
   "outputs": [
    {
     "name": "stdout",
     "output_type": "stream",
     "text": [
      "[0.99244289 0.00755711]\n"
     ]
    }
   ],
   "source": [
    "X = np.array([[-1, -1], [-2, -1], [-3, -2], [1, 1], [2, 1], [3, 2]])\n",
    "pcaSimple = PCA(n_components=2)\n",
    "pcaSimple.fit(X)\n",
    "\n",
    "print(pcaSimple.explained_variance_ratio_) "
   ]
  },
  {
   "cell_type": "markdown",
   "metadata": {},
   "source": [
    "# Iris data set"
   ]
  },
  {
   "cell_type": "markdown",
   "metadata": {},
   "source": [
    "I will now use a wellknown dataset, also known as the iris data set, where more information can be found on it at http://archive.ics.uci.edu/ml/datasets/Iris. \n",
    "\n",
    "The data set is imported through using load_iris2.py from the provided load_iris python module. This converts the class labels to numbers and since there are 3 classes, they are labelled 0, 1, and 2. \n",
    "\n",
    "The data is fit with PCA and I investigate what happens when I fit the data with 3 principal components to see how much of the variance is explained by these components."
   ]
  },
  {
   "cell_type": "code",
   "execution_count": 3,
   "metadata": {},
   "outputs": [
    {
     "data": {
      "image/png": "[encoded data removed]",
      "text/plain": [
       "<Figure size 432x288 with 1 Axes>"
      ]
     },
     "metadata": {
      "needs_background": "light"
     },
     "output_type": "display_data"
    },
    {
     "name": "stdout",
     "output_type": "stream",
     "text": [
      "[0.92461872 0.05306648 0.01710261]\n"
     ]
    }
   ],
   "source": [
    "#Load the data\n",
    "from sklearn.datasets import load_iris\n",
    "iris_data = load_iris()\n",
    "data = iris_data.data\n",
    "labels = iris_data.target\n",
    "classes = set(labels)\n",
    "\n",
    "#Fit the data with PCA\n",
    "pcaIris = PCA(n_components=3)\n",
    "pcaIris.fit(data)\n",
    "plt.plot(pcaIris.explained_variance_ratio_)\n",
    "plt.show()\n",
    "print(pcaIris.explained_variance_ratio_)"
   ]
  },
  {
   "cell_type": "markdown",
   "metadata": {},
   "source": [
    "# Projecting the data"
   ]
  },
  {
   "cell_type": "markdown",
   "metadata": {},
   "source": [
    "The data is now projected onto the first two principal components. Now it is visible to see how much class seperation is obtained through projecting onto the first two principal components."
   ]
  },
  {
   "cell_type": "code",
   "execution_count": 4,
   "metadata": {},
   "outputs": [
    {
     "data": {
      "image/png": "[encoded data removed]",
      "text/plain": [
       "<Figure size 432x288 with 1 Axes>"
      ]
     },
     "metadata": {
      "needs_background": "light"
     },
     "output_type": "display_data"
    }
   ],
   "source": [
    "pca = PCA(n_components=2)\n",
    "x2 = pca.fit(data).transform(data)\n",
    "plt.figure()\n",
    "c = ['r','g','b']\n",
    "for i in range(0,3):\n",
    "    plt.scatter(x2[labels == i, 0], -x2[labels == i, 1], color = c[i])\n",
    "plt.show()"
   ]
  },
  {
   "cell_type": "markdown",
   "metadata": {},
   "source": [
    "# Face recognition"
   ]
  },
  {
   "cell_type": "markdown",
   "metadata": {},
   "source": [
    "The next part introduces facial recognition through using eigenfaces, see https://en.wikipedia.org/wiki/Eigenface \n",
    "\n",
    "The code demonstrates the main ideas of the eigenface approach using the Olivetti face database."
   ]
  },
  {
   "cell_type": "code",
   "execution_count": 6,
   "metadata": {},
   "outputs": [],
   "source": [
    "from skimage import io\n",
    "ic = io.ImageCollection('../data/att_faces/*/*.png')\n",
    "ic = np.array(ic)\n",
    "ic_flat = ic.reshape((len(ic), -1))\n",
    "number,m,n = ic.shape "
   ]
  },
  {
   "cell_type": "markdown",
   "metadata": {},
   "source": [
    "# Viewing the faces"
   ]
  },
  {
   "cell_type": "markdown",
   "metadata": {},
   "source": [
    "Using iPython widgets, the faces can be viewed by i"
   ]
  }
 ],
 "metadata": {
  "kernelspec": {
   "display_name": "Python 3",
   "language": "python",
   "name": "python3"
  },
  "language_info": {
   "codemirror_mode": {
    "name": "ipython",
    "version": 3
   },
   "file_extension": ".py",
   "mimetype": "text/x-python",
   "name": "python",
   "nbconvert_exporter": "python",
   "pygments_lexer": "ipython3",
   "version": "3.7.3"
  }
 },
 "nbformat": 4,
 "nbformat_minor": 2
}
